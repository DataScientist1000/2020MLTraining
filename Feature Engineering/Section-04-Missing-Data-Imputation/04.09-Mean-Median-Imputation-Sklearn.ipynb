{
 "cells": [
  {
   "cell_type": "markdown",
   "metadata": {},
   "source": [
    "## Mean / median imputation with Scikit-learn ==> SimpleImputer\n",
    "\n",
    "Scikit-learn provides a class to make most of the most common data imputation techniques.\n",
    "\n",
    "The **SimpleImputer** class provides basic strategies for imputing missing values, including:\n",
    "\n",
    "- Mean and median imputation for numerical variables\n",
    "- Most frequent category imputation for categorical variables\n",
    "- Arbitrary value imputation for both categorical and numerical variables\n",
    "\n",
    "### Advantages\n",
    "\n",
    "- Simple to use if applied to the entire dataframe\n",
    "- Maintained by the Scikit-learn developers: good quality code\n",
    "- Fast computation (it uses numpy for calculations)\n",
    "- Allows for grid search over the various imputation techniques\n",
    "- Allows for different missing values encodings (you can indicate if the missing values are np.nan, or zeroes, etc)\n",
    "\n",
    "### Limitations\n",
    "\n",
    "- Returns a numpy array instead of a pandas dataframe, inconvenient for data analysis\n",
    "- Needs to use additional classes to select which features to impute  ==>\n",
    "    - requires more lines of code\n",
    "    - additional classes still in beta (may change without warning)\n",
    "    - not so straightforward to use anymore.\n",
    "\n",
    "### More details about the transformers\n",
    "\n",
    "- [SimpleImputer](https://scikit-learn.org/stable/modules/generated/sklearn.impute.SimpleImputer.html#sklearn.impute.SimpleImputer)\n",
    "- [ColumnTransformer](https://scikit-learn.org/stable/modules/generated/sklearn.compose.ColumnTransformer.html)\n",
    "- [Stackoverflow](https://stackoverflow.com/questions/54160370/how-to-use-sklearn-column-transformer)\n",
    "\n",
    "\n",
    "## In this demo:\n",
    "\n",
    "We will do **mean / median imputation with Scikit-learn** using the Ames House Price Dataset.\n",
    "\n",
    "- To download the dataset please refer to the lecture **Datasets** in **Section 1** of this course."
   ]
  },
  {
   "cell_type": "code",
   "execution_count": 1,
   "metadata": {},
   "outputs": [],
   "source": [
    "import pandas as pd\n",
    "import numpy as np\n",
    "\n",
    "import matplotlib.pyplot as plt\n",
    "\n",
    "# these are the objects we need to impute missing data\n",
    "# with sklearn\n",
    "from sklearn.impute import SimpleImputer\n",
    "from sklearn.compose import ColumnTransformer\n",
    "from sklearn.pipeline import Pipeline\n",
    "\n",
    "# to split the datasets\n",
    "from sklearn.model_selection import train_test_split"
   ]
  },
  {
   "cell_type": "code",
   "execution_count": 10,
   "metadata": {},
   "outputs": [],
   "source": [
    "# we use only the following variables for the demo:\n",
    "# 3 of which contain NA\n",
    "\n",
    "cols_to_use = [\n",
    "    'OverallQual', 'TotalBsmtSF', '1stFlrSF', 'GrLivArea', 'WoodDeckSF',\n",
    "    'BsmtUnfSF', 'LotFrontage', 'MasVnrArea', 'GarageYrBlt', 'SalePrice'\n",
    "]"
   ]
  },
  {
   "cell_type": "code",
   "execution_count": 11,
   "metadata": {},
   "outputs": [
    {
     "name": "stdout",
     "output_type": "stream",
     "text": [
      "(1460, 10)\n"
     ]
    },
    {
     "data": {
      "text/html": [
       "<div>\n",
       "<style scoped>\n",
       "    .dataframe tbody tr th:only-of-type {\n",
       "        vertical-align: middle;\n",
       "    }\n",
       "\n",
       "    .dataframe tbody tr th {\n",
       "        vertical-align: top;\n",
       "    }\n",
       "\n",
       "    .dataframe thead th {\n",
       "        text-align: right;\n",
       "    }\n",
       "</style>\n",
       "<table border=\"1\" class=\"dataframe\">\n",
       "  <thead>\n",
       "    <tr style=\"text-align: right;\">\n",
       "      <th></th>\n",
       "      <th>LotFrontage</th>\n",
       "      <th>OverallQual</th>\n",
       "      <th>MasVnrArea</th>\n",
       "      <th>BsmtUnfSF</th>\n",
       "      <th>TotalBsmtSF</th>\n",
       "      <th>1stFlrSF</th>\n",
       "      <th>GrLivArea</th>\n",
       "      <th>GarageYrBlt</th>\n",
       "      <th>WoodDeckSF</th>\n",
       "      <th>SalePrice</th>\n",
       "    </tr>\n",
       "  </thead>\n",
       "  <tbody>\n",
       "    <tr>\n",
       "      <th>0</th>\n",
       "      <td>65.0</td>\n",
       "      <td>7</td>\n",
       "      <td>196.0</td>\n",
       "      <td>150</td>\n",
       "      <td>856</td>\n",
       "      <td>856</td>\n",
       "      <td>1710</td>\n",
       "      <td>2003.0</td>\n",
       "      <td>0</td>\n",
       "      <td>208500</td>\n",
       "    </tr>\n",
       "    <tr>\n",
       "      <th>1</th>\n",
       "      <td>80.0</td>\n",
       "      <td>6</td>\n",
       "      <td>0.0</td>\n",
       "      <td>284</td>\n",
       "      <td>1262</td>\n",
       "      <td>1262</td>\n",
       "      <td>1262</td>\n",
       "      <td>1976.0</td>\n",
       "      <td>298</td>\n",
       "      <td>181500</td>\n",
       "    </tr>\n",
       "    <tr>\n",
       "      <th>2</th>\n",
       "      <td>68.0</td>\n",
       "      <td>7</td>\n",
       "      <td>162.0</td>\n",
       "      <td>434</td>\n",
       "      <td>920</td>\n",
       "      <td>920</td>\n",
       "      <td>1786</td>\n",
       "      <td>2001.0</td>\n",
       "      <td>0</td>\n",
       "      <td>223500</td>\n",
       "    </tr>\n",
       "    <tr>\n",
       "      <th>3</th>\n",
       "      <td>60.0</td>\n",
       "      <td>7</td>\n",
       "      <td>0.0</td>\n",
       "      <td>540</td>\n",
       "      <td>756</td>\n",
       "      <td>961</td>\n",
       "      <td>1717</td>\n",
       "      <td>1998.0</td>\n",
       "      <td>0</td>\n",
       "      <td>140000</td>\n",
       "    </tr>\n",
       "    <tr>\n",
       "      <th>4</th>\n",
       "      <td>84.0</td>\n",
       "      <td>8</td>\n",
       "      <td>350.0</td>\n",
       "      <td>490</td>\n",
       "      <td>1145</td>\n",
       "      <td>1145</td>\n",
       "      <td>2198</td>\n",
       "      <td>2000.0</td>\n",
       "      <td>192</td>\n",
       "      <td>250000</td>\n",
       "    </tr>\n",
       "  </tbody>\n",
       "</table>\n",
       "</div>"
      ],
      "text/plain": [
       "   LotFrontage  OverallQual  MasVnrArea  BsmtUnfSF  TotalBsmtSF  1stFlrSF  \\\n",
       "0         65.0            7       196.0        150          856       856   \n",
       "1         80.0            6         0.0        284         1262      1262   \n",
       "2         68.0            7       162.0        434          920       920   \n",
       "3         60.0            7         0.0        540          756       961   \n",
       "4         84.0            8       350.0        490         1145      1145   \n",
       "\n",
       "   GrLivArea  GarageYrBlt  WoodDeckSF  SalePrice  \n",
       "0       1710       2003.0           0     208500  \n",
       "1       1262       1976.0         298     181500  \n",
       "2       1786       2001.0           0     223500  \n",
       "3       1717       1998.0           0     140000  \n",
       "4       2198       2000.0         192     250000  "
      ]
     },
     "execution_count": 11,
     "metadata": {},
     "output_type": "execute_result"
    }
   ],
   "source": [
    "# let's load the House Prices dataset\n",
    "\n",
    "data = pd.read_csv('../AmesHousing.csv', usecols=cols_to_use)\n",
    "print(data.shape)\n",
    "data.head()"
   ]
  },
  {
   "cell_type": "code",
   "execution_count": 12,
   "metadata": {},
   "outputs": [
    {
     "data": {
      "text/plain": [
       "LotFrontage    0.177397\n",
       "OverallQual    0.000000\n",
       "MasVnrArea     0.005479\n",
       "BsmtUnfSF      0.000000\n",
       "TotalBsmtSF    0.000000\n",
       "1stFlrSF       0.000000\n",
       "GrLivArea      0.000000\n",
       "GarageYrBlt    0.055479\n",
       "WoodDeckSF     0.000000\n",
       "SalePrice      0.000000\n",
       "dtype: float64"
      ]
     },
     "execution_count": 12,
     "metadata": {},
     "output_type": "execute_result"
    }
   ],
   "source": [
    "# let's check the null values\n",
    "data.isnull().mean()"
   ]
  },
  {
   "cell_type": "markdown",
   "metadata": {},
   "source": [
    "The variables LotFrontage, MasVnrArea and GarageYrBlt contain missing data."
   ]
  },
  {
   "cell_type": "code",
   "execution_count": 14,
   "metadata": {},
   "outputs": [
    {
     "data": {
      "text/plain": [
       "((1022, 9), (438, 9))"
      ]
     },
     "execution_count": 14,
     "metadata": {},
     "output_type": "execute_result"
    }
   ],
   "source": [
    "# let's separate into training and testing set\n",
    "# first let's remove the target from the features\n",
    "\n",
    "cols_to_use.remove('SalePrice')\n",
    "\n",
    "X_train, X_test, y_train, y_test = train_test_split(data[cols_to_use], # just the features\n",
    "                                                    data['SalePrice'], # the target\n",
    "                                                    test_size=0.3, # the percentage of obs in the test set\n",
    "                                                    random_state=0) # for reproducibility\n",
    "X_train.shape, X_test.shape"
   ]
  },
  {
   "cell_type": "code",
   "execution_count": 15,
   "metadata": {},
   "outputs": [
    {
     "data": {
      "text/plain": [
       "OverallQual    0.000000\n",
       "TotalBsmtSF    0.000000\n",
       "1stFlrSF       0.000000\n",
       "GrLivArea      0.000000\n",
       "WoodDeckSF     0.000000\n",
       "BsmtUnfSF      0.000000\n",
       "LotFrontage    0.184932\n",
       "MasVnrArea     0.004892\n",
       "GarageYrBlt    0.052838\n",
       "dtype: float64"
      ]
     },
     "execution_count": 15,
     "metadata": {},
     "output_type": "execute_result"
    }
   ],
   "source": [
    "# let's check the misssing data again\n",
    "X_train.isnull().mean()"
   ]
  },
  {
   "cell_type": "markdown",
   "metadata": {},
   "source": [
    "### SimpleImputer on the entire dataset"
   ]
  },
  {
   "cell_type": "code",
   "execution_count": 17,
   "metadata": {},
   "outputs": [
    {
     "data": {
      "text/plain": [
       "SimpleImputer(strategy='median')"
      ]
     },
     "execution_count": 17,
     "metadata": {},
     "output_type": "execute_result"
    }
   ],
   "source": [
    "# Now we impute the missing values with SimpleImputer\n",
    "\n",
    "# create an instance of the simple imputer\n",
    "# we indicate that we want to impute with the median\n",
    "imputer = SimpleImputer(strategy='median')\n",
    "\n",
    "# we fit the imputer to the train set\n",
    "# the imputer will learn the median of all variables\n",
    "imputer.fit(X_train[cols_to_use])"
   ]
  },
  {
   "cell_type": "markdown",
   "metadata": {},
   "source": [
    "**Note, if you want to do mean imputation instead of median, pass the argument 'mean' to 'strategy'**"
   ]
  },
  {
   "cell_type": "code",
   "execution_count": 18,
   "metadata": {},
   "outputs": [
    {
     "data": {
      "text/plain": [
       "array([   6. ,  992. , 1095. , 1479. ,    0. ,  486.5,   69. ,    0. ,\n",
       "       1979. ])"
      ]
     },
     "execution_count": 18,
     "metadata": {},
     "output_type": "execute_result"
    }
   ],
   "source": [
    "# we can look at the learnt medians like this:\n",
    "imputer.statistics_"
   ]
  },
  {
   "cell_type": "code",
   "execution_count": 19,
   "metadata": {},
   "outputs": [
    {
     "data": {
      "text/plain": [
       "OverallQual       6.0\n",
       "TotalBsmtSF     992.0\n",
       "1stFlrSF       1095.0\n",
       "GrLivArea      1479.0\n",
       "WoodDeckSF        0.0\n",
       "BsmtUnfSF       486.5\n",
       "LotFrontage      69.0\n",
       "MasVnrArea        0.0\n",
       "GarageYrBlt    1979.0\n",
       "dtype: float64"
      ]
     },
     "execution_count": 19,
     "metadata": {},
     "output_type": "execute_result"
    }
   ],
   "source": [
    "# and we can investigate the medians directly to corroborate\n",
    "# the imputer did a good job\n",
    "X_train[cols_to_use].median()"
   ]
  },
  {
   "cell_type": "markdown",
   "metadata": {},
   "source": [
    "**Note** that SimpleImputer learns the medians of ALL the variables in the dataset, those with NA and those without NA."
   ]
  },
  {
   "cell_type": "code",
   "execution_count": 20,
   "metadata": {},
   "outputs": [
    {
     "data": {
      "text/plain": [
       "array([[   7., 1057., 1057., ...,   69.,  573., 1998.],\n",
       "       [   6., 1291., 1291., ...,   69.,    0., 1996.],\n",
       "       [   5.,  858.,  858., ...,   50.,    0., 1979.],\n",
       "       ...,\n",
       "       [   6.,    0., 1318., ...,   68.,    0., 1978.],\n",
       "       [   7., 1374., 1557., ...,   69.,   18., 2003.],\n",
       "       [   7., 1195., 1195., ...,   58.,   30., 1998.]])"
      ]
     },
     "execution_count": 20,
     "metadata": {},
     "output_type": "execute_result"
    }
   ],
   "source": [
    "# and now we impute the train and test set\n",
    "\n",
    "# NOTE: the data is returned as a numpy array!!!\n",
    "X_train = imputer.transform(X_train)\n",
    "X_test = imputer.transform(X_test)\n",
    "\n",
    "X_train"
   ]
  },
  {
   "cell_type": "code",
   "execution_count": 21,
   "metadata": {},
   "outputs": [
    {
     "data": {
      "text/html": [
       "<div>\n",
       "<style scoped>\n",
       "    .dataframe tbody tr th:only-of-type {\n",
       "        vertical-align: middle;\n",
       "    }\n",
       "\n",
       "    .dataframe tbody tr th {\n",
       "        vertical-align: top;\n",
       "    }\n",
       "\n",
       "    .dataframe thead th {\n",
       "        text-align: right;\n",
       "    }\n",
       "</style>\n",
       "<table border=\"1\" class=\"dataframe\">\n",
       "  <thead>\n",
       "    <tr style=\"text-align: right;\">\n",
       "      <th></th>\n",
       "      <th>OverallQual</th>\n",
       "      <th>TotalBsmtSF</th>\n",
       "      <th>1stFlrSF</th>\n",
       "      <th>GrLivArea</th>\n",
       "      <th>WoodDeckSF</th>\n",
       "      <th>BsmtUnfSF</th>\n",
       "      <th>LotFrontage</th>\n",
       "      <th>MasVnrArea</th>\n",
       "      <th>GarageYrBlt</th>\n",
       "    </tr>\n",
       "  </thead>\n",
       "  <tbody>\n",
       "    <tr>\n",
       "      <th>0</th>\n",
       "      <td>7.0</td>\n",
       "      <td>1057.0</td>\n",
       "      <td>1057.0</td>\n",
       "      <td>2034.0</td>\n",
       "      <td>576.0</td>\n",
       "      <td>318.0</td>\n",
       "      <td>69.0</td>\n",
       "      <td>573.0</td>\n",
       "      <td>1998.0</td>\n",
       "    </tr>\n",
       "    <tr>\n",
       "      <th>1</th>\n",
       "      <td>6.0</td>\n",
       "      <td>1291.0</td>\n",
       "      <td>1291.0</td>\n",
       "      <td>1291.0</td>\n",
       "      <td>307.0</td>\n",
       "      <td>288.0</td>\n",
       "      <td>69.0</td>\n",
       "      <td>0.0</td>\n",
       "      <td>1996.0</td>\n",
       "    </tr>\n",
       "    <tr>\n",
       "      <th>2</th>\n",
       "      <td>5.0</td>\n",
       "      <td>858.0</td>\n",
       "      <td>858.0</td>\n",
       "      <td>858.0</td>\n",
       "      <td>117.0</td>\n",
       "      <td>162.0</td>\n",
       "      <td>50.0</td>\n",
       "      <td>0.0</td>\n",
       "      <td>1979.0</td>\n",
       "    </tr>\n",
       "    <tr>\n",
       "      <th>3</th>\n",
       "      <td>6.0</td>\n",
       "      <td>560.0</td>\n",
       "      <td>698.0</td>\n",
       "      <td>1258.0</td>\n",
       "      <td>0.0</td>\n",
       "      <td>356.0</td>\n",
       "      <td>60.0</td>\n",
       "      <td>0.0</td>\n",
       "      <td>1939.0</td>\n",
       "    </tr>\n",
       "    <tr>\n",
       "      <th>4</th>\n",
       "      <td>2.0</td>\n",
       "      <td>290.0</td>\n",
       "      <td>438.0</td>\n",
       "      <td>438.0</td>\n",
       "      <td>0.0</td>\n",
       "      <td>0.0</td>\n",
       "      <td>60.0</td>\n",
       "      <td>0.0</td>\n",
       "      <td>1930.0</td>\n",
       "    </tr>\n",
       "  </tbody>\n",
       "</table>\n",
       "</div>"
      ],
      "text/plain": [
       "   OverallQual  TotalBsmtSF  1stFlrSF  GrLivArea  WoodDeckSF  BsmtUnfSF  \\\n",
       "0          7.0       1057.0    1057.0     2034.0       576.0      318.0   \n",
       "1          6.0       1291.0    1291.0     1291.0       307.0      288.0   \n",
       "2          5.0        858.0     858.0      858.0       117.0      162.0   \n",
       "3          6.0        560.0     698.0     1258.0         0.0      356.0   \n",
       "4          2.0        290.0     438.0      438.0         0.0        0.0   \n",
       "\n",
       "   LotFrontage  MasVnrArea  GarageYrBlt  \n",
       "0         69.0       573.0       1998.0  \n",
       "1         69.0         0.0       1996.0  \n",
       "2         50.0         0.0       1979.0  \n",
       "3         60.0         0.0       1939.0  \n",
       "4         60.0         0.0       1930.0  "
      ]
     },
     "execution_count": 21,
     "metadata": {},
     "output_type": "execute_result"
    }
   ],
   "source": [
    "# if we wanted to continue our data analysis, we would have to\n",
    "# encode the train set back to a dataframe:\n",
    "\n",
    "pd.DataFrame(X_train, columns=cols_to_use).head()"
   ]
  },
  {
   "cell_type": "code",
   "execution_count": 22,
   "metadata": {},
   "outputs": [
    {
     "data": {
      "image/png": "[encoded data removed]",
      "text/plain": [
       "<Figure size 720x720 with 9 Axes>"
      ]
     },
     "metadata": {
      "needs_background": "light"
     },
     "output_type": "display_data"
    }
   ],
   "source": [
    "# Let's explore the change in the distributions after the median imputation\n",
    "\n",
    "X_train = pd.DataFrame(X_train, columns=cols_to_use)\n",
    "X_train.hist(bins=50, figsize=(10,10))\n",
    "plt.show()"
   ]
  },
  {
   "cell_type": "markdown",
   "metadata": {},
   "source": [
    "Note in the variable LotFrontAge the tall bar at the value of the median in the histogram, which appears after the data imputation.\n",
    "\n",
    "**A MASSIVE NOTE OF CAUTION**: when encoding the returned numpy arrays from Scikit-learn back to a dataframe, there is the potential risk of messing the order of the features and therefore MISS-REPRESENTING the data!!\n",
    "\n",
    "You need to be extremely careful to pass the columns to the pd.DataFrame command in the same order in which they were in the X_train BEFORE the transformation!.\n",
    "\n",
    "\n",
    "### SimpleImputer: different procedures on different features\n",
    "\n",
    "On occasions, we want to implement different imputation techniques to different features, how can we do this using the SimpleImputer from Scikit-learn?\n",
    "\n",
    "We need to use another class called ColumnTransformer. \n",
    "\n",
    "**Note** ColumnTransformer has been recently released by Scikit-learn and it is therefore in beta version. This means that the developers can change the way it is used, or remove it altogether any time. The implication is that the code you write today, may not be useful after new releases from Scikit-learn. That is usually what happens with any open-source package when the developers are trying new functionality.\n",
    "\n",
    "More details about the ColumnTransformer in the [Sklearn website](https://scikit-learn.org/stable/modules/generated/sklearn.compose.ColumnTransformer.html)"
   ]
  },
  {
   "cell_type": "code",
   "execution_count": 23,
   "metadata": {},
   "outputs": [
    {
     "data": {
      "text/plain": [
       "((1022, 9), (438, 9))"
      ]
     },
     "execution_count": 23,
     "metadata": {},
     "output_type": "execute_result"
    }
   ],
   "source": [
    "# let's separate into training and testing set\n",
    "\n",
    "X_train, X_test, y_train, y_test = train_test_split(data[cols_to_use],# predictors only\n",
    "                                                    data['SalePrice'],\n",
    "                                                    test_size=0.3,\n",
    "                                                    random_state=0)\n",
    "X_train.shape, X_test.shape"
   ]
  },
  {
   "cell_type": "code",
   "execution_count": 24,
   "metadata": {},
   "outputs": [
    {
     "data": {
      "text/plain": [
       "OverallQual    0.000000\n",
       "TotalBsmtSF    0.000000\n",
       "1stFlrSF       0.000000\n",
       "GrLivArea      0.000000\n",
       "WoodDeckSF     0.000000\n",
       "BsmtUnfSF      0.000000\n",
       "LotFrontage    0.184932\n",
       "MasVnrArea     0.004892\n",
       "GarageYrBlt    0.052838\n",
       "dtype: float64"
      ]
     },
     "execution_count": 24,
     "metadata": {},
     "output_type": "execute_result"
    }
   ],
   "source": [
    "# let's look at the missing values\n",
    "X_train.isnull().mean()"
   ]
  },
  {
   "cell_type": "code",
   "execution_count": 25,
   "metadata": {},
   "outputs": [
    {
     "data": {
      "image/png": "[encoded data removed]",
      "text/plain": [
       "<Figure size 720x720 with 9 Axes>"
      ]
     },
     "metadata": {
      "needs_background": "light"
     },
     "output_type": "display_data"
    }
   ],
   "source": [
    "# let's look at the distributions of the variables to decide\n",
    "# whether we use the mean or the median\n",
    "\n",
    "X_train.hist(bins=50, figsize=(10,10))\n",
    "plt.show()"
   ]
  },
  {
   "cell_type": "markdown",
   "metadata": {},
   "source": [
    "For this demo, I will impute LotFrontage with the mean, and MasVnrArea and GarageYrBlt with the median, as those variables are quite skewed."
   ]
  },
  {
   "cell_type": "code",
   "execution_count": 26,
   "metadata": {},
   "outputs": [],
   "source": [
    "# first we need to make lists, indicating which features\n",
    "# will be imputed with each method\n",
    "\n",
    "numeric_features_mean = ['LotFrontage']\n",
    "numeric_features_median = ['MasVnrArea', 'GarageYrBlt']\n",
    "\n",
    "# then we instantiate the imputers, within a pipeline\n",
    "# we create one mean imputer and one median imputer\n",
    "# by changing the parameter in the strategy\n",
    "\n",
    "numeric_mean_imputer = Pipeline(steps=[\n",
    "    ('imputer', SimpleImputer(strategy='mean')),\n",
    "])\n",
    "\n",
    "numeric_median_imputer = Pipeline(steps=[\n",
    "    ('imputer', SimpleImputer(strategy='median')),\n",
    "])\n",
    "\n",
    "# then we put the features list and the transformers together\n",
    "# using the column transformer\n",
    "\n",
    "# we need to add remainder = True to indicate what we want\n",
    "# ALL the columns returned at the end of the transformation\n",
    "# and not just the engineered ones, which is the default\n",
    "# behaviour of ColumnTransformer. \n",
    "\n",
    "preprocessor = ColumnTransformer(transformers=[\n",
    "    ('mean_imputer', numeric_mean_imputer, numeric_features_mean),\n",
    "    ('median_imputer', numeric_median_imputer, numeric_features_median)\n",
    "], remainder='passthrough')\n",
    "\n",
    "\n",
    "# parameters of the ColumnTransformer\n",
    "# remainder = 'passthrough' indicates that we want to retain ALL the columns in the dataset\n",
    "            # otherwise only those specified in the imputing steps will be kept\n",
    "    \n",
    "# for more details follow the sklearn page:\n",
    "# https://scikit-learn.org/stable/modules/generated/sklearn.compose.ColumnTransformer.html"
   ]
  },
  {
   "cell_type": "code",
   "execution_count": 27,
   "metadata": {},
   "outputs": [
    {
     "data": {
      "text/plain": [
       "ColumnTransformer(remainder='passthrough',\n",
       "                  transformers=[('mean_imputer',\n",
       "                                 Pipeline(steps=[('imputer', SimpleImputer())]),\n",
       "                                 ['LotFrontage']),\n",
       "                                ('median_imputer',\n",
       "                                 Pipeline(steps=[('imputer',\n",
       "                                                  SimpleImputer(strategy='median'))]),\n",
       "                                 ['MasVnrArea', 'GarageYrBlt'])])"
      ]
     },
     "execution_count": 27,
     "metadata": {},
     "output_type": "execute_result"
    }
   ],
   "source": [
    "# now we fit the preprocessor\n",
    "preprocessor.fit(X_train)"
   ]
  },
  {
   "cell_type": "code",
   "execution_count": 30,
   "metadata": {},
   "outputs": [
    {
     "data": {
      "text/plain": [
       "<bound method ColumnTransformer.get_params of ColumnTransformer(remainder='passthrough',\n",
       "                  transformers=[('mean_imputer',\n",
       "                                 Pipeline(steps=[('imputer', SimpleImputer())]),\n",
       "                                 ['LotFrontage']),\n",
       "                                ('median_imputer',\n",
       "                                 Pipeline(steps=[('imputer',\n",
       "                                                  SimpleImputer(strategy='median'))]),\n",
       "                                 ['MasVnrArea', 'GarageYrBlt'])])>"
      ]
     },
     "execution_count": 30,
     "metadata": {},
     "output_type": "execute_result"
    }
   ],
   "source": [
    "# we can explore the transformers like this:\n",
    "\n",
    "preprocessor.transformers\n",
    "preprocessor.get_params"
   ]
  },
  {
   "cell_type": "code",
   "execution_count": 31,
   "metadata": {},
   "outputs": [
    {
     "data": {
      "text/plain": [
       "array([69.66866747])"
      ]
     },
     "execution_count": 31,
     "metadata": {},
     "output_type": "execute_result"
    }
   ],
   "source": [
    "# and we can look at the parameters learnt like this:\n",
    "\n",
    "# for the mean imputer\n",
    "preprocessor.named_transformers_['mean_imputer'].named_steps['imputer'].statistics_"
   ]
  },
  {
   "cell_type": "code",
   "execution_count": 32,
   "metadata": {},
   "outputs": [
    {
     "data": {
      "text/plain": [
       "LotFrontage    69.668667\n",
       "dtype: float64"
      ]
     },
     "execution_count": 32,
     "metadata": {},
     "output_type": "execute_result"
    }
   ],
   "source": [
    "# and we can corroborate the value with that one in\n",
    "# the train set\n",
    "X_train[numeric_features_mean].mean()"
   ]
  },
  {
   "cell_type": "code",
   "execution_count": 33,
   "metadata": {},
   "outputs": [
    {
     "data": {
      "text/plain": [
       "array([   0., 1979.])"
      ]
     },
     "execution_count": 33,
     "metadata": {},
     "output_type": "execute_result"
    }
   ],
   "source": [
    "# for the median imputerthere are 2 values learnt\n",
    "# because we want to impute 2 different variables\n",
    "\n",
    "preprocessor.named_transformers_['median_imputer'].named_steps['imputer'].statistics_"
   ]
  },
  {
   "cell_type": "code",
   "execution_count": 34,
   "metadata": {},
   "outputs": [
    {
     "data": {
      "text/plain": [
       "MasVnrArea        0.0\n",
       "GarageYrBlt    1979.0\n",
       "dtype: float64"
      ]
     },
     "execution_count": 34,
     "metadata": {},
     "output_type": "execute_result"
    }
   ],
   "source": [
    "# and we corroborate those values in the train set\n",
    "X_train[numeric_features_median].median()"
   ]
  },
  {
   "cell_type": "code",
   "execution_count": 35,
   "metadata": {},
   "outputs": [
    {
     "data": {
      "text/plain": [
       "0.0"
      ]
     },
     "execution_count": 35,
     "metadata": {},
     "output_type": "execute_result"
    }
   ],
   "source": [
    "# and now we can impute the data\n",
    "X_train = preprocessor.transform(X_train)\n",
    "\n",
    "# and check it worked\n",
    "np.mean(np.isnan(X_train))"
   ]
  },
  {
   "cell_type": "code",
   "execution_count": 36,
   "metadata": {},
   "outputs": [
    {
     "data": {
      "text/plain": [
       "0.0"
      ]
     },
     "execution_count": 36,
     "metadata": {},
     "output_type": "execute_result"
    }
   ],
   "source": [
    "# and now we can impute the test data\n",
    "X_test = preprocessor.transform(X_test)\n",
    "\n",
    "# and check it worked\n",
    "np.mean(np.isnan(X_test))"
   ]
  },
  {
   "cell_type": "code",
   "execution_count": 37,
   "metadata": {},
   "outputs": [
    {
     "data": {
      "text/plain": [
       "array([[  69.66866747,  573.        , 1998.        , ..., 2034.        ,\n",
       "         576.        ,  318.        ],\n",
       "       [  69.66866747,    0.        , 1996.        , ..., 1291.        ,\n",
       "         307.        ,  288.        ],\n",
       "       [  50.        ,    0.        , 1979.        , ...,  858.        ,\n",
       "         117.        ,  162.        ],\n",
       "       ...,\n",
       "       [  68.        ,    0.        , 1978.        , ..., 1902.        ,\n",
       "           0.        ,    0.        ],\n",
       "       [  69.66866747,   18.        , 2003.        , ..., 1557.        ,\n",
       "         143.        , 1374.        ],\n",
       "       [  58.        ,   30.        , 1998.        , ..., 1839.        ,\n",
       "           0.        , 1195.        ]])"
      ]
     },
     "execution_count": 37,
     "metadata": {},
     "output_type": "execute_result"
    }
   ],
   "source": [
    "# remember that the returned object  is a NumPy array\n",
    "X_train"
   ]
  },
  {
   "cell_type": "code",
   "execution_count": 38,
   "metadata": {},
   "outputs": [
    {
     "data": {
      "text/plain": [
       "[('mean_imputer',\n",
       "  Pipeline(steps=[('imputer', SimpleImputer())]),\n",
       "  ['LotFrontage']),\n",
       " ('median_imputer',\n",
       "  Pipeline(steps=[('imputer', SimpleImputer(strategy='median'))]),\n",
       "  ['MasVnrArea', 'GarageYrBlt']),\n",
       " ('remainder', 'passthrough', [0, 1, 2, 3, 4, 5])]"
      ]
     },
     "execution_count": 38,
     "metadata": {},
     "output_type": "execute_result"
    }
   ],
   "source": [
    "# if we want to put the array back into a dataframe, we need\n",
    "# to be careful with the column order\n",
    "\n",
    "# like this, we can explore the features used in each transformer\n",
    "# including those in the remainder (the ones that were not transformed)\n",
    "preprocessor.transformers_"
   ]
  },
  {
   "cell_type": "markdown",
   "metadata": {},
   "source": [
    "'remainder', 'passthrough', [0, 1, 2, 3, 4, 5]\n",
    "\n",
    "the code above tells us that the remainder columns are those in position 0, 1, 2, 3, 4, 5 of the X_train"
   ]
  },
  {
   "cell_type": "code",
   "execution_count": 40,
   "metadata": {},
   "outputs": [
    {
     "data": {
      "text/plain": [
       "['OverallQual',\n",
       " 'TotalBsmtSF',\n",
       " '1stFlrSF',\n",
       " 'GrLivArea',\n",
       " 'WoodDeckSF',\n",
       " 'BsmtUnfSF']"
      ]
     },
     "execution_count": 40,
     "metadata": {},
     "output_type": "execute_result"
    }
   ],
   "source": [
    "# let's capture the columns in a list\n",
    "\n",
    "remainder_cols = [cols_to_use[c] for c in [0, 1, 2, 3, 4, 5]]\n",
    "remainder_cols"
   ]
  },
  {
   "cell_type": "code",
   "execution_count": 41,
   "metadata": {},
   "outputs": [
    {
     "data": {
      "text/html": [
       "<div>\n",
       "<style scoped>\n",
       "    .dataframe tbody tr th:only-of-type {\n",
       "        vertical-align: middle;\n",
       "    }\n",
       "\n",
       "    .dataframe tbody tr th {\n",
       "        vertical-align: top;\n",
       "    }\n",
       "\n",
       "    .dataframe thead th {\n",
       "        text-align: right;\n",
       "    }\n",
       "</style>\n",
       "<table border=\"1\" class=\"dataframe\">\n",
       "  <thead>\n",
       "    <tr style=\"text-align: right;\">\n",
       "      <th></th>\n",
       "      <th>LotFrontage</th>\n",
       "      <th>MasVnrArea</th>\n",
       "      <th>GarageYrBlt</th>\n",
       "      <th>OverallQual</th>\n",
       "      <th>TotalBsmtSF</th>\n",
       "      <th>1stFlrSF</th>\n",
       "      <th>GrLivArea</th>\n",
       "      <th>WoodDeckSF</th>\n",
       "      <th>BsmtUnfSF</th>\n",
       "    </tr>\n",
       "  </thead>\n",
       "  <tbody>\n",
       "    <tr>\n",
       "      <th>0</th>\n",
       "      <td>69.668667</td>\n",
       "      <td>573.0</td>\n",
       "      <td>1998.0</td>\n",
       "      <td>7.0</td>\n",
       "      <td>1057.0</td>\n",
       "      <td>1057.0</td>\n",
       "      <td>2034.0</td>\n",
       "      <td>576.0</td>\n",
       "      <td>318.0</td>\n",
       "    </tr>\n",
       "    <tr>\n",
       "      <th>1</th>\n",
       "      <td>69.668667</td>\n",
       "      <td>0.0</td>\n",
       "      <td>1996.0</td>\n",
       "      <td>6.0</td>\n",
       "      <td>1291.0</td>\n",
       "      <td>1291.0</td>\n",
       "      <td>1291.0</td>\n",
       "      <td>307.0</td>\n",
       "      <td>288.0</td>\n",
       "    </tr>\n",
       "    <tr>\n",
       "      <th>2</th>\n",
       "      <td>50.000000</td>\n",
       "      <td>0.0</td>\n",
       "      <td>1979.0</td>\n",
       "      <td>5.0</td>\n",
       "      <td>858.0</td>\n",
       "      <td>858.0</td>\n",
       "      <td>858.0</td>\n",
       "      <td>117.0</td>\n",
       "      <td>162.0</td>\n",
       "    </tr>\n",
       "    <tr>\n",
       "      <th>3</th>\n",
       "      <td>60.000000</td>\n",
       "      <td>0.0</td>\n",
       "      <td>1939.0</td>\n",
       "      <td>6.0</td>\n",
       "      <td>560.0</td>\n",
       "      <td>698.0</td>\n",
       "      <td>1258.0</td>\n",
       "      <td>0.0</td>\n",
       "      <td>356.0</td>\n",
       "    </tr>\n",
       "    <tr>\n",
       "      <th>4</th>\n",
       "      <td>60.000000</td>\n",
       "      <td>0.0</td>\n",
       "      <td>1930.0</td>\n",
       "      <td>2.0</td>\n",
       "      <td>290.0</td>\n",
       "      <td>438.0</td>\n",
       "      <td>438.0</td>\n",
       "      <td>0.0</td>\n",
       "      <td>0.0</td>\n",
       "    </tr>\n",
       "  </tbody>\n",
       "</table>\n",
       "</div>"
      ],
      "text/plain": [
       "   LotFrontage  MasVnrArea  GarageYrBlt  OverallQual  TotalBsmtSF  1stFlrSF  \\\n",
       "0    69.668667       573.0       1998.0          7.0       1057.0    1057.0   \n",
       "1    69.668667         0.0       1996.0          6.0       1291.0    1291.0   \n",
       "2    50.000000         0.0       1979.0          5.0        858.0     858.0   \n",
       "3    60.000000         0.0       1939.0          6.0        560.0     698.0   \n",
       "4    60.000000         0.0       1930.0          2.0        290.0     438.0   \n",
       "\n",
       "   GrLivArea  WoodDeckSF  BsmtUnfSF  \n",
       "0     2034.0       576.0      318.0  \n",
       "1     1291.0       307.0      288.0  \n",
       "2      858.0       117.0      162.0  \n",
       "3     1258.0         0.0      356.0  \n",
       "4      438.0         0.0        0.0  "
      ]
     },
     "execution_count": 41,
     "metadata": {},
     "output_type": "execute_result"
    }
   ],
   "source": [
    "# capture the data back in a dataframe\n",
    "pd.DataFrame(X_train,\n",
    "             columns = numeric_features_mean+numeric_features_median+remainder_cols).head()"
   ]
  },
  {
   "cell_type": "markdown",
   "metadata": {},
   "source": [
    "**ANOTHER NOTE OF CAUTION**\n",
    "\n",
    "ColumnTransformer is in essence just slicing the dataframe in the required features. Then the SimpleImputer operates on the sliced dataframe. If different features are required by the different imputation methods, it will slice the dataframe on the required features for each imputation, and then concatenate them to produce the final output.\n",
    "\n",
    "For our specific example, what happens is the following:\n",
    "\n",
    "- ColumnTransformer first creates a single column dataframe with the first feature, LotFrontage\n",
    "- ColumnTransformer creates a 2 column dataframe with the features MasVnrArea and GarageBlt\n",
    "- ColumnTransformer creates an additional dataframe with the remaining features in the train set\n",
    "- The SimpleImputers learn the parameters in their respective sliced dataframes\n",
    "- ColunmnTransformer contatenates back all the dataframes into the final result"
   ]
  },
  {
   "cell_type": "code",
   "execution_count": null,
   "metadata": {},
   "outputs": [],
   "source": []
  }
 ],
 "metadata": {
  "kernelspec": {
   "display_name": "Python 3",
   "language": "python",
   "name": "python3"
  },
  "language_info": {
   "codemirror_mode": {
    "name": "ipython",
    "version": 3
   },
   "file_extension": ".py",
   "mimetype": "text/x-python",
   "name": "python",
   "nbconvert_exporter": "python",
   "pygments_lexer": "ipython3",
   "version": "3.7.3"
  },
  "toc": {
   "base_numbering": 1,
   "nav_menu": {},
   "number_sections": true,
   "sideBar": true,
   "skip_h1_title": false,
   "title_cell": "Table of Contents",
   "title_sidebar": "Contents",
   "toc_cell": false,
   "toc_position": {},
   "toc_section_display": true,
   "toc_window_display": true
  }
 },
 "nbformat": 4,
 "nbformat_minor": 2
}
